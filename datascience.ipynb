{
 "cells": [
  {
   "cell_type": "markdown",
   "metadata": {},
   "source": [
    "- Importing necessary packages"
   ]
  },
  {
   "cell_type": "code",
   "execution_count": 21,
   "metadata": {},
   "outputs": [],
   "source": [
    "import pandas as pd \n",
    "import numpy as np\n",
    "import matplotlib.pyplot as plt\n",
    "import fredapi as fd\n",
    "import plotly.express as px\n",
    "import datetime\n",
    "import pandas_datareader as pdr"
   ]
  },
  {
   "cell_type": "markdown",
   "metadata": {},
   "source": [
    "- Generate Fred API key"
   ]
  },
  {
   "cell_type": "code",
   "execution_count": 22,
   "metadata": {},
   "outputs": [],
   "source": [
    "fred  = fd.Fred(api_key='66d2b7f16684ef3e554a446c21ea4859')"
   ]
  },
  {
   "cell_type": "markdown",
   "metadata": {},
   "source": [
    "- set start and end date to filter the data"
   ]
  },
  {
   "cell_type": "code",
   "execution_count": 23,
   "metadata": {},
   "outputs": [],
   "source": [
    "start_date = datetime.datetime(1900, 1, 1)\t\n",
    "end_date = datetime.datetime(2023, 1, 1)"
   ]
  },
  {
   "cell_type": "markdown",
   "metadata": {},
   "source": [
    "- Get GDP, Net exports, Personal consumption expenditure, Goverment spending expenditure and Private consumption investment"
   ]
  },
  {
   "cell_type": "code",
   "execution_count": 24,
   "metadata": {},
   "outputs": [
    {
     "data": {
      "text/html": [
       "<div>\n",
       "<style scoped>\n",
       "    .dataframe tbody tr th:only-of-type {\n",
       "        vertical-align: middle;\n",
       "    }\n",
       "\n",
       "    .dataframe tbody tr th {\n",
       "        vertical-align: top;\n",
       "    }\n",
       "\n",
       "    .dataframe thead th {\n",
       "        text-align: right;\n",
       "    }\n",
       "</style>\n",
       "<table border=\"1\" class=\"dataframe\">\n",
       "  <thead>\n",
       "    <tr style=\"text-align: right;\">\n",
       "      <th></th>\n",
       "      <th>DATE</th>\n",
       "      <th>gdp</th>\n",
       "    </tr>\n",
       "  </thead>\n",
       "  <tbody>\n",
       "    <tr>\n",
       "      <th>0</th>\n",
       "      <td>1950-01-01</td>\n",
       "      <td>70207.0</td>\n",
       "    </tr>\n",
       "    <tr>\n",
       "      <th>1</th>\n",
       "      <td>1950-04-01</td>\n",
       "      <td>72595.8</td>\n",
       "    </tr>\n",
       "    <tr>\n",
       "      <th>2</th>\n",
       "      <td>1950-07-01</td>\n",
       "      <td>77038.3</td>\n",
       "    </tr>\n",
       "    <tr>\n",
       "      <th>3</th>\n",
       "      <td>1950-10-01</td>\n",
       "      <td>79986.3</td>\n",
       "    </tr>\n",
       "    <tr>\n",
       "      <th>4</th>\n",
       "      <td>1951-01-01</td>\n",
       "      <td>84000.0</td>\n",
       "    </tr>\n",
       "    <tr>\n",
       "      <th>...</th>\n",
       "      <td>...</td>\n",
       "      <td>...</td>\n",
       "    </tr>\n",
       "    <tr>\n",
       "      <th>288</th>\n",
       "      <td>2022-01-01</td>\n",
       "      <td>6257279.0</td>\n",
       "    </tr>\n",
       "    <tr>\n",
       "      <th>289</th>\n",
       "      <td>2022-04-01</td>\n",
       "      <td>6386068.3</td>\n",
       "    </tr>\n",
       "    <tr>\n",
       "      <th>290</th>\n",
       "      <td>2022-07-01</td>\n",
       "      <td>6498659.8</td>\n",
       "    </tr>\n",
       "    <tr>\n",
       "      <th>291</th>\n",
       "      <td>2022-10-01</td>\n",
       "      <td>6602101.3</td>\n",
       "    </tr>\n",
       "    <tr>\n",
       "      <th>292</th>\n",
       "      <td>2023-01-01</td>\n",
       "      <td>6703400.3</td>\n",
       "    </tr>\n",
       "  </tbody>\n",
       "</table>\n",
       "<p>293 rows × 2 columns</p>\n",
       "</div>"
      ],
      "text/plain": [
       "          DATE        gdp\n",
       "0   1950-01-01    70207.0\n",
       "1   1950-04-01    72595.8\n",
       "2   1950-07-01    77038.3\n",
       "3   1950-10-01    79986.3\n",
       "4   1951-01-01    84000.0\n",
       "..         ...        ...\n",
       "288 2022-01-01  6257279.0\n",
       "289 2022-04-01  6386068.3\n",
       "290 2022-07-01  6498659.8\n",
       "291 2022-10-01  6602101.3\n",
       "292 2023-01-01  6703400.3\n",
       "\n",
       "[293 rows x 2 columns]"
      ]
     },
     "execution_count": 24,
     "metadata": {},
     "output_type": "execute_result"
    }
   ],
   "source": [
    "df_gdp = pdr.get_data_fred('NGDPSAXDCUSQ', start_date, end_date)\n",
    "df_gdp=df_gdp.reset_index()\n",
    "df_gdp= df_gdp.rename(columns={'NGDPSAXDCUSQ':'gdp'})\n",
    "df_gdp"
   ]
  },
  {
   "cell_type": "code",
   "execution_count": 25,
   "metadata": {},
   "outputs": [
    {
     "data": {
      "text/html": [
       "<div>\n",
       "<style scoped>\n",
       "    .dataframe tbody tr th:only-of-type {\n",
       "        vertical-align: middle;\n",
       "    }\n",
       "\n",
       "    .dataframe tbody tr th {\n",
       "        vertical-align: top;\n",
       "    }\n",
       "\n",
       "    .dataframe thead th {\n",
       "        text-align: right;\n",
       "    }\n",
       "</style>\n",
       "<table border=\"1\" class=\"dataframe\">\n",
       "  <thead>\n",
       "    <tr style=\"text-align: right;\">\n",
       "      <th></th>\n",
       "      <th>DATE</th>\n",
       "      <th>netExports</th>\n",
       "    </tr>\n",
       "  </thead>\n",
       "  <tbody>\n",
       "    <tr>\n",
       "      <th>0</th>\n",
       "      <td>1970-01-01</td>\n",
       "      <td>-58.811</td>\n",
       "    </tr>\n",
       "    <tr>\n",
       "      <th>1</th>\n",
       "      <td>1970-04-01</td>\n",
       "      <td>-56.426</td>\n",
       "    </tr>\n",
       "    <tr>\n",
       "      <th>2</th>\n",
       "      <td>1970-07-01</td>\n",
       "      <td>-55.074</td>\n",
       "    </tr>\n",
       "    <tr>\n",
       "      <th>3</th>\n",
       "      <td>1970-10-01</td>\n",
       "      <td>-58.546</td>\n",
       "    </tr>\n",
       "    <tr>\n",
       "      <th>4</th>\n",
       "      <td>1971-01-01</td>\n",
       "      <td>-53.771</td>\n",
       "    </tr>\n",
       "    <tr>\n",
       "      <th>...</th>\n",
       "      <td>...</td>\n",
       "      <td>...</td>\n",
       "    </tr>\n",
       "    <tr>\n",
       "      <th>208</th>\n",
       "      <td>2022-01-01</td>\n",
       "      <td>-1141.052</td>\n",
       "    </tr>\n",
       "    <tr>\n",
       "      <th>209</th>\n",
       "      <td>2022-04-01</td>\n",
       "      <td>-1116.196</td>\n",
       "    </tr>\n",
       "    <tr>\n",
       "      <th>210</th>\n",
       "      <td>2022-07-01</td>\n",
       "      <td>-981.230</td>\n",
       "    </tr>\n",
       "    <tr>\n",
       "      <th>211</th>\n",
       "      <td>2022-10-01</td>\n",
       "      <td>-965.569</td>\n",
       "    </tr>\n",
       "    <tr>\n",
       "      <th>212</th>\n",
       "      <td>2023-01-01</td>\n",
       "      <td>-935.079</td>\n",
       "    </tr>\n",
       "  </tbody>\n",
       "</table>\n",
       "<p>213 rows × 2 columns</p>\n",
       "</div>"
      ],
      "text/plain": [
       "          DATE  netExports\n",
       "0   1970-01-01     -58.811\n",
       "1   1970-04-01     -56.426\n",
       "2   1970-07-01     -55.074\n",
       "3   1970-10-01     -58.546\n",
       "4   1971-01-01     -53.771\n",
       "..         ...         ...\n",
       "208 2022-01-01   -1141.052\n",
       "209 2022-04-01   -1116.196\n",
       "210 2022-07-01    -981.230\n",
       "211 2022-10-01    -965.569\n",
       "212 2023-01-01    -935.079\n",
       "\n",
       "[213 rows x 2 columns]"
      ]
     },
     "execution_count": 25,
     "metadata": {},
     "output_type": "execute_result"
    }
   ],
   "source": [
    "df_netExports = pdr.get_data_fred('NETEXC', start_date, end_date)\n",
    "df_netExports=df_netExports.reset_index()\n",
    "df_netExports= df_netExports.rename(columns={'NETEXC':'netExports'})\n",
    "df_netExports\n"
   ]
  },
  {
   "cell_type": "code",
   "execution_count": 26,
   "metadata": {},
   "outputs": [
    {
     "data": {
      "text/html": [
       "<div>\n",
       "<style scoped>\n",
       "    .dataframe tbody tr th:only-of-type {\n",
       "        vertical-align: middle;\n",
       "    }\n",
       "\n",
       "    .dataframe tbody tr th {\n",
       "        vertical-align: top;\n",
       "    }\n",
       "\n",
       "    .dataframe thead th {\n",
       "        text-align: right;\n",
       "    }\n",
       "</style>\n",
       "<table border=\"1\" class=\"dataframe\">\n",
       "  <thead>\n",
       "    <tr style=\"text-align: right;\">\n",
       "      <th></th>\n",
       "      <th>DATE</th>\n",
       "      <th>privateDomesticInvestment</th>\n",
       "    </tr>\n",
       "  </thead>\n",
       "  <tbody>\n",
       "    <tr>\n",
       "      <th>0</th>\n",
       "      <td>1947-01-01</td>\n",
       "      <td>227.242</td>\n",
       "    </tr>\n",
       "    <tr>\n",
       "      <th>1</th>\n",
       "      <td>1947-04-01</td>\n",
       "      <td>209.836</td>\n",
       "    </tr>\n",
       "    <tr>\n",
       "      <th>2</th>\n",
       "      <td>1947-07-01</td>\n",
       "      <td>203.662</td>\n",
       "    </tr>\n",
       "    <tr>\n",
       "      <th>3</th>\n",
       "      <td>1947-10-01</td>\n",
       "      <td>243.072</td>\n",
       "    </tr>\n",
       "    <tr>\n",
       "      <th>4</th>\n",
       "      <td>1948-01-01</td>\n",
       "      <td>268.012</td>\n",
       "    </tr>\n",
       "    <tr>\n",
       "      <th>...</th>\n",
       "      <td>...</td>\n",
       "      <td>...</td>\n",
       "    </tr>\n",
       "    <tr>\n",
       "      <th>300</th>\n",
       "      <td>2022-01-01</td>\n",
       "      <td>4222.449</td>\n",
       "    </tr>\n",
       "    <tr>\n",
       "      <th>301</th>\n",
       "      <td>2022-04-01</td>\n",
       "      <td>4105.540</td>\n",
       "    </tr>\n",
       "    <tr>\n",
       "      <th>302</th>\n",
       "      <td>2022-07-01</td>\n",
       "      <td>4024.750</td>\n",
       "    </tr>\n",
       "    <tr>\n",
       "      <th>303</th>\n",
       "      <td>2022-10-01</td>\n",
       "      <td>4058.491</td>\n",
       "    </tr>\n",
       "    <tr>\n",
       "      <th>304</th>\n",
       "      <td>2023-01-01</td>\n",
       "      <td>3963.689</td>\n",
       "    </tr>\n",
       "  </tbody>\n",
       "</table>\n",
       "<p>305 rows × 2 columns</p>\n",
       "</div>"
      ],
      "text/plain": [
       "          DATE  privateDomesticInvestment\n",
       "0   1947-01-01                    227.242\n",
       "1   1947-04-01                    209.836\n",
       "2   1947-07-01                    203.662\n",
       "3   1947-10-01                    243.072\n",
       "4   1948-01-01                    268.012\n",
       "..         ...                        ...\n",
       "300 2022-01-01                   4222.449\n",
       "301 2022-04-01                   4105.540\n",
       "302 2022-07-01                   4024.750\n",
       "303 2022-10-01                   4058.491\n",
       "304 2023-01-01                   3963.689\n",
       "\n",
       "[305 rows x 2 columns]"
      ]
     },
     "execution_count": 26,
     "metadata": {},
     "output_type": "execute_result"
    }
   ],
   "source": [
    "df_privateDomesticInvestment = pdr.get_data_fred('GPDIC1', start_date, end_date)\n",
    "df_privateDomesticInvestment=df_privateDomesticInvestment.reset_index()\n",
    "df_privateDomesticInvestment= df_privateDomesticInvestment.rename(columns={'GPDIC1':'privateDomesticInvestment'})\n",
    "df_privateDomesticInvestment"
   ]
  },
  {
   "cell_type": "code",
   "execution_count": 27,
   "metadata": {},
   "outputs": [
    {
     "data": {
      "text/html": [
       "<div>\n",
       "<style scoped>\n",
       "    .dataframe tbody tr th:only-of-type {\n",
       "        vertical-align: middle;\n",
       "    }\n",
       "\n",
       "    .dataframe tbody tr th {\n",
       "        vertical-align: top;\n",
       "    }\n",
       "\n",
       "    .dataframe thead th {\n",
       "        text-align: right;\n",
       "    }\n",
       "</style>\n",
       "<table border=\"1\" class=\"dataframe\">\n",
       "  <thead>\n",
       "    <tr style=\"text-align: right;\">\n",
       "      <th></th>\n",
       "      <th>DATE</th>\n",
       "      <th>personalConsumptionExpenditures</th>\n",
       "    </tr>\n",
       "  </thead>\n",
       "  <tbody>\n",
       "    <tr>\n",
       "      <th>0</th>\n",
       "      <td>1959-01-01</td>\n",
       "      <td>306.1</td>\n",
       "    </tr>\n",
       "    <tr>\n",
       "      <th>1</th>\n",
       "      <td>1959-02-01</td>\n",
       "      <td>309.6</td>\n",
       "    </tr>\n",
       "    <tr>\n",
       "      <th>2</th>\n",
       "      <td>1959-03-01</td>\n",
       "      <td>312.7</td>\n",
       "    </tr>\n",
       "    <tr>\n",
       "      <th>3</th>\n",
       "      <td>1959-04-01</td>\n",
       "      <td>312.2</td>\n",
       "    </tr>\n",
       "    <tr>\n",
       "      <th>4</th>\n",
       "      <td>1959-05-01</td>\n",
       "      <td>316.1</td>\n",
       "    </tr>\n",
       "    <tr>\n",
       "      <th>...</th>\n",
       "      <td>...</td>\n",
       "      <td>...</td>\n",
       "    </tr>\n",
       "    <tr>\n",
       "      <th>764</th>\n",
       "      <td>2022-09-01</td>\n",
       "      <td>17804.0</td>\n",
       "    </tr>\n",
       "    <tr>\n",
       "      <th>765</th>\n",
       "      <td>2022-10-01</td>\n",
       "      <td>17915.1</td>\n",
       "    </tr>\n",
       "    <tr>\n",
       "      <th>766</th>\n",
       "      <td>2022-11-01</td>\n",
       "      <td>17892.5</td>\n",
       "    </tr>\n",
       "    <tr>\n",
       "      <th>767</th>\n",
       "      <td>2022-12-01</td>\n",
       "      <td>17943.6</td>\n",
       "    </tr>\n",
       "    <tr>\n",
       "      <th>768</th>\n",
       "      <td>2023-01-01</td>\n",
       "      <td>18229.6</td>\n",
       "    </tr>\n",
       "  </tbody>\n",
       "</table>\n",
       "<p>769 rows × 2 columns</p>\n",
       "</div>"
      ],
      "text/plain": [
       "          DATE  personalConsumptionExpenditures\n",
       "0   1959-01-01                            306.1\n",
       "1   1959-02-01                            309.6\n",
       "2   1959-03-01                            312.7\n",
       "3   1959-04-01                            312.2\n",
       "4   1959-05-01                            316.1\n",
       "..         ...                              ...\n",
       "764 2022-09-01                          17804.0\n",
       "765 2022-10-01                          17915.1\n",
       "766 2022-11-01                          17892.5\n",
       "767 2022-12-01                          17943.6\n",
       "768 2023-01-01                          18229.6\n",
       "\n",
       "[769 rows x 2 columns]"
      ]
     },
     "execution_count": 27,
     "metadata": {},
     "output_type": "execute_result"
    }
   ],
   "source": [
    "df_personalConsumptionExpenditures = pdr.get_data_fred('PCE', start_date, end_date)\n",
    "df_personalConsumptionExpenditures=df_personalConsumptionExpenditures.reset_index()\n",
    "df_personalConsumptionExpenditures= df_personalConsumptionExpenditures.rename(columns={'PCE':'personalConsumptionExpenditures'})\n",
    "df_personalConsumptionExpenditures"
   ]
  },
  {
   "cell_type": "code",
   "execution_count": 28,
   "metadata": {},
   "outputs": [
    {
     "data": {
      "text/html": [
       "<div>\n",
       "<style scoped>\n",
       "    .dataframe tbody tr th:only-of-type {\n",
       "        vertical-align: middle;\n",
       "    }\n",
       "\n",
       "    .dataframe tbody tr th {\n",
       "        vertical-align: top;\n",
       "    }\n",
       "\n",
       "    .dataframe thead th {\n",
       "        text-align: right;\n",
       "    }\n",
       "</style>\n",
       "<table border=\"1\" class=\"dataframe\">\n",
       "  <thead>\n",
       "    <tr style=\"text-align: right;\">\n",
       "      <th></th>\n",
       "      <th>DATE</th>\n",
       "      <th>governmentTotalExpenditures</th>\n",
       "    </tr>\n",
       "  </thead>\n",
       "  <tbody>\n",
       "    <tr>\n",
       "      <th>0</th>\n",
       "      <td>1960-01-01</td>\n",
       "      <td>144.233</td>\n",
       "    </tr>\n",
       "    <tr>\n",
       "      <th>1</th>\n",
       "      <td>1960-04-01</td>\n",
       "      <td>147.417</td>\n",
       "    </tr>\n",
       "    <tr>\n",
       "      <th>2</th>\n",
       "      <td>1960-07-01</td>\n",
       "      <td>150.459</td>\n",
       "    </tr>\n",
       "    <tr>\n",
       "      <th>3</th>\n",
       "      <td>1960-10-01</td>\n",
       "      <td>153.780</td>\n",
       "    </tr>\n",
       "    <tr>\n",
       "      <th>4</th>\n",
       "      <td>1961-01-01</td>\n",
       "      <td>157.254</td>\n",
       "    </tr>\n",
       "    <tr>\n",
       "      <th>...</th>\n",
       "      <td>...</td>\n",
       "      <td>...</td>\n",
       "    </tr>\n",
       "    <tr>\n",
       "      <th>248</th>\n",
       "      <td>2022-01-01</td>\n",
       "      <td>8330.638</td>\n",
       "    </tr>\n",
       "    <tr>\n",
       "      <th>249</th>\n",
       "      <td>2022-04-01</td>\n",
       "      <td>8774.527</td>\n",
       "    </tr>\n",
       "    <tr>\n",
       "      <th>250</th>\n",
       "      <td>2022-07-01</td>\n",
       "      <td>8894.032</td>\n",
       "    </tr>\n",
       "    <tr>\n",
       "      <th>251</th>\n",
       "      <td>2022-10-01</td>\n",
       "      <td>9175.833</td>\n",
       "    </tr>\n",
       "    <tr>\n",
       "      <th>252</th>\n",
       "      <td>2023-01-01</td>\n",
       "      <td>9326.383</td>\n",
       "    </tr>\n",
       "  </tbody>\n",
       "</table>\n",
       "<p>253 rows × 2 columns</p>\n",
       "</div>"
      ],
      "text/plain": [
       "          DATE  governmentTotalExpenditures\n",
       "0   1960-01-01                      144.233\n",
       "1   1960-04-01                      147.417\n",
       "2   1960-07-01                      150.459\n",
       "3   1960-10-01                      153.780\n",
       "4   1961-01-01                      157.254\n",
       "..         ...                          ...\n",
       "248 2022-01-01                     8330.638\n",
       "249 2022-04-01                     8774.527\n",
       "250 2022-07-01                     8894.032\n",
       "251 2022-10-01                     9175.833\n",
       "252 2023-01-01                     9326.383\n",
       "\n",
       "[253 rows x 2 columns]"
      ]
     },
     "execution_count": 28,
     "metadata": {},
     "output_type": "execute_result"
    }
   ],
   "source": [
    "df_governmentTotalExpenditures = pdr.get_data_fred('W068RCQ027SBEA', start_date, end_date)\n",
    "df_governmentTotalExpenditures= df_governmentTotalExpenditures.rename(columns={'W068RCQ027SBEA':'governmentTotalExpenditures'})\n",
    "df_governmentTotalExpenditures =df_governmentTotalExpenditures.reset_index()\n",
    "df_governmentTotalExpenditures"
   ]
  },
  {
   "cell_type": "markdown",
   "metadata": {},
   "source": [
    "- Merge DataFrames using Date as an primary key"
   ]
  },
  {
   "cell_type": "code",
   "execution_count": 29,
   "metadata": {},
   "outputs": [
    {
     "data": {
      "text/html": [
       "<div>\n",
       "<style scoped>\n",
       "    .dataframe tbody tr th:only-of-type {\n",
       "        vertical-align: middle;\n",
       "    }\n",
       "\n",
       "    .dataframe tbody tr th {\n",
       "        vertical-align: top;\n",
       "    }\n",
       "\n",
       "    .dataframe thead th {\n",
       "        text-align: right;\n",
       "    }\n",
       "</style>\n",
       "<table border=\"1\" class=\"dataframe\">\n",
       "  <thead>\n",
       "    <tr style=\"text-align: right;\">\n",
       "      <th></th>\n",
       "      <th>DATE</th>\n",
       "      <th>gdp</th>\n",
       "      <th>personalConsumptionExpenditures</th>\n",
       "      <th>netExports</th>\n",
       "      <th>privateDomesticInvestment</th>\n",
       "      <th>governmentTotalExpenditures</th>\n",
       "    </tr>\n",
       "  </thead>\n",
       "  <tbody>\n",
       "    <tr>\n",
       "      <th>0</th>\n",
       "      <td>1970-01-01</td>\n",
       "      <td>262800.0</td>\n",
       "      <td>628.7</td>\n",
       "      <td>-58.811</td>\n",
       "      <td>600.116</td>\n",
       "      <td>325.878</td>\n",
       "    </tr>\n",
       "    <tr>\n",
       "      <th>1</th>\n",
       "      <td>1970-04-01</td>\n",
       "      <td>266843.8</td>\n",
       "      <td>636.0</td>\n",
       "      <td>-56.426</td>\n",
       "      <td>601.421</td>\n",
       "      <td>339.049</td>\n",
       "    </tr>\n",
       "    <tr>\n",
       "      <th>2</th>\n",
       "      <td>1970-07-01</td>\n",
       "      <td>271514.8</td>\n",
       "      <td>648.5</td>\n",
       "      <td>-55.074</td>\n",
       "      <td>611.208</td>\n",
       "      <td>346.412</td>\n",
       "    </tr>\n",
       "    <tr>\n",
       "      <th>3</th>\n",
       "      <td>1970-10-01</td>\n",
       "      <td>272152.0</td>\n",
       "      <td>658.3</td>\n",
       "      <td>-58.546</td>\n",
       "      <td>578.757</td>\n",
       "      <td>354.250</td>\n",
       "    </tr>\n",
       "    <tr>\n",
       "      <th>4</th>\n",
       "      <td>1971-01-01</td>\n",
       "      <td>283789.0</td>\n",
       "      <td>676.1</td>\n",
       "      <td>-53.771</td>\n",
       "      <td>646.232</td>\n",
       "      <td>358.566</td>\n",
       "    </tr>\n",
       "    <tr>\n",
       "      <th>...</th>\n",
       "      <td>...</td>\n",
       "      <td>...</td>\n",
       "      <td>...</td>\n",
       "      <td>...</td>\n",
       "      <td>...</td>\n",
       "      <td>...</td>\n",
       "    </tr>\n",
       "    <tr>\n",
       "      <th>208</th>\n",
       "      <td>2022-01-01</td>\n",
       "      <td>6257279.0</td>\n",
       "      <td>16888.6</td>\n",
       "      <td>-1141.052</td>\n",
       "      <td>4222.449</td>\n",
       "      <td>8330.638</td>\n",
       "    </tr>\n",
       "    <tr>\n",
       "      <th>209</th>\n",
       "      <td>2022-04-01</td>\n",
       "      <td>6386068.3</td>\n",
       "      <td>17310.5</td>\n",
       "      <td>-1116.196</td>\n",
       "      <td>4105.540</td>\n",
       "      <td>8774.527</td>\n",
       "    </tr>\n",
       "    <tr>\n",
       "      <th>210</th>\n",
       "      <td>2022-07-01</td>\n",
       "      <td>6498659.8</td>\n",
       "      <td>17556.4</td>\n",
       "      <td>-981.230</td>\n",
       "      <td>4024.750</td>\n",
       "      <td>8894.032</td>\n",
       "    </tr>\n",
       "    <tr>\n",
       "      <th>211</th>\n",
       "      <td>2022-10-01</td>\n",
       "      <td>6602101.3</td>\n",
       "      <td>17915.1</td>\n",
       "      <td>-965.569</td>\n",
       "      <td>4058.491</td>\n",
       "      <td>9175.833</td>\n",
       "    </tr>\n",
       "    <tr>\n",
       "      <th>212</th>\n",
       "      <td>2023-01-01</td>\n",
       "      <td>6703400.3</td>\n",
       "      <td>18229.6</td>\n",
       "      <td>-935.079</td>\n",
       "      <td>3963.689</td>\n",
       "      <td>9326.383</td>\n",
       "    </tr>\n",
       "  </tbody>\n",
       "</table>\n",
       "<p>213 rows × 6 columns</p>\n",
       "</div>"
      ],
      "text/plain": [
       "          DATE        gdp  personalConsumptionExpenditures  netExports  \\\n",
       "0   1970-01-01   262800.0                            628.7     -58.811   \n",
       "1   1970-04-01   266843.8                            636.0     -56.426   \n",
       "2   1970-07-01   271514.8                            648.5     -55.074   \n",
       "3   1970-10-01   272152.0                            658.3     -58.546   \n",
       "4   1971-01-01   283789.0                            676.1     -53.771   \n",
       "..         ...        ...                              ...         ...   \n",
       "208 2022-01-01  6257279.0                          16888.6   -1141.052   \n",
       "209 2022-04-01  6386068.3                          17310.5   -1116.196   \n",
       "210 2022-07-01  6498659.8                          17556.4    -981.230   \n",
       "211 2022-10-01  6602101.3                          17915.1    -965.569   \n",
       "212 2023-01-01  6703400.3                          18229.6    -935.079   \n",
       "\n",
       "     privateDomesticInvestment  governmentTotalExpenditures  \n",
       "0                      600.116                      325.878  \n",
       "1                      601.421                      339.049  \n",
       "2                      611.208                      346.412  \n",
       "3                      578.757                      354.250  \n",
       "4                      646.232                      358.566  \n",
       "..                         ...                          ...  \n",
       "208                   4222.449                     8330.638  \n",
       "209                   4105.540                     8774.527  \n",
       "210                   4024.750                     8894.032  \n",
       "211                   4058.491                     9175.833  \n",
       "212                   3963.689                     9326.383  \n",
       "\n",
       "[213 rows x 6 columns]"
      ]
     },
     "execution_count": 29,
     "metadata": {},
     "output_type": "execute_result"
    }
   ],
   "source": [
    "from functools import reduce\n",
    "dfs = [df_gdp,df_personalConsumptionExpenditures,df_netExports,df_privateDomesticInvestment,df_governmentTotalExpenditures]\n",
    "merged_df = reduce(lambda left, right: pd.merge(left, right, on='DATE'), dfs)\n",
    "merged_df"
   ]
  },
  {
   "cell_type": "code",
   "execution_count": 30,
   "metadata": {},
   "outputs": [
    {
     "name": "stdout",
     "output_type": "stream",
     "text": [
      "DataFrame does not contian NaN values\n"
     ]
    }
   ],
   "source": [
    "nan_check = merged_df.isna().any().any()\n",
    "if nan_check:\n",
    "    print(\"DataFrame contains NaN value\")\n",
    "else:\n",
    "    print(\"DataFrame does not contian NaN values\")"
   ]
  },
  {
   "cell_type": "markdown",
   "metadata": {},
   "source": [
    " - Handling Duplicates"
   ]
  },
  {
   "cell_type": "code",
   "execution_count": 31,
   "metadata": {},
   "outputs": [
    {
     "data": {
      "text/html": [
       "<div>\n",
       "<style scoped>\n",
       "    .dataframe tbody tr th:only-of-type {\n",
       "        vertical-align: middle;\n",
       "    }\n",
       "\n",
       "    .dataframe tbody tr th {\n",
       "        vertical-align: top;\n",
       "    }\n",
       "\n",
       "    .dataframe thead th {\n",
       "        text-align: right;\n",
       "    }\n",
       "</style>\n",
       "<table border=\"1\" class=\"dataframe\">\n",
       "  <thead>\n",
       "    <tr style=\"text-align: right;\">\n",
       "      <th></th>\n",
       "      <th>DATE</th>\n",
       "      <th>gdp</th>\n",
       "      <th>personalConsumptionExpenditures</th>\n",
       "      <th>netExports</th>\n",
       "      <th>privateDomesticInvestment</th>\n",
       "      <th>governmentTotalExpenditures</th>\n",
       "    </tr>\n",
       "  </thead>\n",
       "  <tbody>\n",
       "    <tr>\n",
       "      <th>0</th>\n",
       "      <td>1970-01-01</td>\n",
       "      <td>262800.0</td>\n",
       "      <td>628.7</td>\n",
       "      <td>-58.811</td>\n",
       "      <td>600.116</td>\n",
       "      <td>325.878</td>\n",
       "    </tr>\n",
       "    <tr>\n",
       "      <th>1</th>\n",
       "      <td>1970-04-01</td>\n",
       "      <td>266843.8</td>\n",
       "      <td>636.0</td>\n",
       "      <td>-56.426</td>\n",
       "      <td>601.421</td>\n",
       "      <td>339.049</td>\n",
       "    </tr>\n",
       "    <tr>\n",
       "      <th>2</th>\n",
       "      <td>1970-07-01</td>\n",
       "      <td>271514.8</td>\n",
       "      <td>648.5</td>\n",
       "      <td>-55.074</td>\n",
       "      <td>611.208</td>\n",
       "      <td>346.412</td>\n",
       "    </tr>\n",
       "    <tr>\n",
       "      <th>3</th>\n",
       "      <td>1970-10-01</td>\n",
       "      <td>272152.0</td>\n",
       "      <td>658.3</td>\n",
       "      <td>-58.546</td>\n",
       "      <td>578.757</td>\n",
       "      <td>354.250</td>\n",
       "    </tr>\n",
       "    <tr>\n",
       "      <th>4</th>\n",
       "      <td>1971-01-01</td>\n",
       "      <td>283789.0</td>\n",
       "      <td>676.1</td>\n",
       "      <td>-53.771</td>\n",
       "      <td>646.232</td>\n",
       "      <td>358.566</td>\n",
       "    </tr>\n",
       "    <tr>\n",
       "      <th>...</th>\n",
       "      <td>...</td>\n",
       "      <td>...</td>\n",
       "      <td>...</td>\n",
       "      <td>...</td>\n",
       "      <td>...</td>\n",
       "      <td>...</td>\n",
       "    </tr>\n",
       "    <tr>\n",
       "      <th>208</th>\n",
       "      <td>2022-01-01</td>\n",
       "      <td>6257279.0</td>\n",
       "      <td>16888.6</td>\n",
       "      <td>-1141.052</td>\n",
       "      <td>4222.449</td>\n",
       "      <td>8330.638</td>\n",
       "    </tr>\n",
       "    <tr>\n",
       "      <th>209</th>\n",
       "      <td>2022-04-01</td>\n",
       "      <td>6386068.3</td>\n",
       "      <td>17310.5</td>\n",
       "      <td>-1116.196</td>\n",
       "      <td>4105.540</td>\n",
       "      <td>8774.527</td>\n",
       "    </tr>\n",
       "    <tr>\n",
       "      <th>210</th>\n",
       "      <td>2022-07-01</td>\n",
       "      <td>6498659.8</td>\n",
       "      <td>17556.4</td>\n",
       "      <td>-981.230</td>\n",
       "      <td>4024.750</td>\n",
       "      <td>8894.032</td>\n",
       "    </tr>\n",
       "    <tr>\n",
       "      <th>211</th>\n",
       "      <td>2022-10-01</td>\n",
       "      <td>6602101.3</td>\n",
       "      <td>17915.1</td>\n",
       "      <td>-965.569</td>\n",
       "      <td>4058.491</td>\n",
       "      <td>9175.833</td>\n",
       "    </tr>\n",
       "    <tr>\n",
       "      <th>212</th>\n",
       "      <td>2023-01-01</td>\n",
       "      <td>6703400.3</td>\n",
       "      <td>18229.6</td>\n",
       "      <td>-935.079</td>\n",
       "      <td>3963.689</td>\n",
       "      <td>9326.383</td>\n",
       "    </tr>\n",
       "  </tbody>\n",
       "</table>\n",
       "<p>213 rows × 6 columns</p>\n",
       "</div>"
      ],
      "text/plain": [
       "          DATE        gdp  personalConsumptionExpenditures  netExports  \\\n",
       "0   1970-01-01   262800.0                            628.7     -58.811   \n",
       "1   1970-04-01   266843.8                            636.0     -56.426   \n",
       "2   1970-07-01   271514.8                            648.5     -55.074   \n",
       "3   1970-10-01   272152.0                            658.3     -58.546   \n",
       "4   1971-01-01   283789.0                            676.1     -53.771   \n",
       "..         ...        ...                              ...         ...   \n",
       "208 2022-01-01  6257279.0                          16888.6   -1141.052   \n",
       "209 2022-04-01  6386068.3                          17310.5   -1116.196   \n",
       "210 2022-07-01  6498659.8                          17556.4    -981.230   \n",
       "211 2022-10-01  6602101.3                          17915.1    -965.569   \n",
       "212 2023-01-01  6703400.3                          18229.6    -935.079   \n",
       "\n",
       "     privateDomesticInvestment  governmentTotalExpenditures  \n",
       "0                      600.116                      325.878  \n",
       "1                      601.421                      339.049  \n",
       "2                      611.208                      346.412  \n",
       "3                      578.757                      354.250  \n",
       "4                      646.232                      358.566  \n",
       "..                         ...                          ...  \n",
       "208                   4222.449                     8330.638  \n",
       "209                   4105.540                     8774.527  \n",
       "210                   4024.750                     8894.032  \n",
       "211                   4058.491                     9175.833  \n",
       "212                   3963.689                     9326.383  \n",
       "\n",
       "[213 rows x 6 columns]"
      ]
     },
     "execution_count": 31,
     "metadata": {},
     "output_type": "execute_result"
    }
   ],
   "source": [
    "merged_df=merged_df.drop_duplicates()\n",
    "merged_df"
   ]
  },
  {
   "cell_type": "markdown",
   "metadata": {},
   "source": [
    "- Handling Missing Values"
   ]
  },
  {
   "cell_type": "code",
   "execution_count": 32,
   "metadata": {},
   "outputs": [
    {
     "data": {
      "text/html": [
       "<div>\n",
       "<style scoped>\n",
       "    .dataframe tbody tr th:only-of-type {\n",
       "        vertical-align: middle;\n",
       "    }\n",
       "\n",
       "    .dataframe tbody tr th {\n",
       "        vertical-align: top;\n",
       "    }\n",
       "\n",
       "    .dataframe thead th {\n",
       "        text-align: right;\n",
       "    }\n",
       "</style>\n",
       "<table border=\"1\" class=\"dataframe\">\n",
       "  <thead>\n",
       "    <tr style=\"text-align: right;\">\n",
       "      <th></th>\n",
       "      <th>DATE</th>\n",
       "      <th>gdp</th>\n",
       "      <th>personalConsumptionExpenditures</th>\n",
       "      <th>netExports</th>\n",
       "      <th>privateDomesticInvestment</th>\n",
       "      <th>governmentTotalExpenditures</th>\n",
       "    </tr>\n",
       "  </thead>\n",
       "  <tbody>\n",
       "    <tr>\n",
       "      <th>0</th>\n",
       "      <td>1970-01-01</td>\n",
       "      <td>262800.0</td>\n",
       "      <td>628.7</td>\n",
       "      <td>-58.811</td>\n",
       "      <td>600.116</td>\n",
       "      <td>325.878</td>\n",
       "    </tr>\n",
       "    <tr>\n",
       "      <th>1</th>\n",
       "      <td>1970-04-01</td>\n",
       "      <td>266843.8</td>\n",
       "      <td>636.0</td>\n",
       "      <td>-56.426</td>\n",
       "      <td>601.421</td>\n",
       "      <td>339.049</td>\n",
       "    </tr>\n",
       "    <tr>\n",
       "      <th>2</th>\n",
       "      <td>1970-07-01</td>\n",
       "      <td>271514.8</td>\n",
       "      <td>648.5</td>\n",
       "      <td>-55.074</td>\n",
       "      <td>611.208</td>\n",
       "      <td>346.412</td>\n",
       "    </tr>\n",
       "    <tr>\n",
       "      <th>3</th>\n",
       "      <td>1970-10-01</td>\n",
       "      <td>272152.0</td>\n",
       "      <td>658.3</td>\n",
       "      <td>-58.546</td>\n",
       "      <td>578.757</td>\n",
       "      <td>354.250</td>\n",
       "    </tr>\n",
       "    <tr>\n",
       "      <th>4</th>\n",
       "      <td>1971-01-01</td>\n",
       "      <td>283789.0</td>\n",
       "      <td>676.1</td>\n",
       "      <td>-53.771</td>\n",
       "      <td>646.232</td>\n",
       "      <td>358.566</td>\n",
       "    </tr>\n",
       "    <tr>\n",
       "      <th>...</th>\n",
       "      <td>...</td>\n",
       "      <td>...</td>\n",
       "      <td>...</td>\n",
       "      <td>...</td>\n",
       "      <td>...</td>\n",
       "      <td>...</td>\n",
       "    </tr>\n",
       "    <tr>\n",
       "      <th>208</th>\n",
       "      <td>2022-01-01</td>\n",
       "      <td>6257279.0</td>\n",
       "      <td>16888.6</td>\n",
       "      <td>-1141.052</td>\n",
       "      <td>4222.449</td>\n",
       "      <td>8330.638</td>\n",
       "    </tr>\n",
       "    <tr>\n",
       "      <th>209</th>\n",
       "      <td>2022-04-01</td>\n",
       "      <td>6386068.3</td>\n",
       "      <td>17310.5</td>\n",
       "      <td>-1116.196</td>\n",
       "      <td>4105.540</td>\n",
       "      <td>8774.527</td>\n",
       "    </tr>\n",
       "    <tr>\n",
       "      <th>210</th>\n",
       "      <td>2022-07-01</td>\n",
       "      <td>6498659.8</td>\n",
       "      <td>17556.4</td>\n",
       "      <td>-981.230</td>\n",
       "      <td>4024.750</td>\n",
       "      <td>8894.032</td>\n",
       "    </tr>\n",
       "    <tr>\n",
       "      <th>211</th>\n",
       "      <td>2022-10-01</td>\n",
       "      <td>6602101.3</td>\n",
       "      <td>17915.1</td>\n",
       "      <td>-965.569</td>\n",
       "      <td>4058.491</td>\n",
       "      <td>9175.833</td>\n",
       "    </tr>\n",
       "    <tr>\n",
       "      <th>212</th>\n",
       "      <td>2023-01-01</td>\n",
       "      <td>6703400.3</td>\n",
       "      <td>18229.6</td>\n",
       "      <td>-935.079</td>\n",
       "      <td>3963.689</td>\n",
       "      <td>9326.383</td>\n",
       "    </tr>\n",
       "  </tbody>\n",
       "</table>\n",
       "<p>213 rows × 6 columns</p>\n",
       "</div>"
      ],
      "text/plain": [
       "          DATE        gdp  personalConsumptionExpenditures  netExports  \\\n",
       "0   1970-01-01   262800.0                            628.7     -58.811   \n",
       "1   1970-04-01   266843.8                            636.0     -56.426   \n",
       "2   1970-07-01   271514.8                            648.5     -55.074   \n",
       "3   1970-10-01   272152.0                            658.3     -58.546   \n",
       "4   1971-01-01   283789.0                            676.1     -53.771   \n",
       "..         ...        ...                              ...         ...   \n",
       "208 2022-01-01  6257279.0                          16888.6   -1141.052   \n",
       "209 2022-04-01  6386068.3                          17310.5   -1116.196   \n",
       "210 2022-07-01  6498659.8                          17556.4    -981.230   \n",
       "211 2022-10-01  6602101.3                          17915.1    -965.569   \n",
       "212 2023-01-01  6703400.3                          18229.6    -935.079   \n",
       "\n",
       "     privateDomesticInvestment  governmentTotalExpenditures  \n",
       "0                      600.116                      325.878  \n",
       "1                      601.421                      339.049  \n",
       "2                      611.208                      346.412  \n",
       "3                      578.757                      354.250  \n",
       "4                      646.232                      358.566  \n",
       "..                         ...                          ...  \n",
       "208                   4222.449                     8330.638  \n",
       "209                   4105.540                     8774.527  \n",
       "210                   4024.750                     8894.032  \n",
       "211                   4058.491                     9175.833  \n",
       "212                   3963.689                     9326.383  \n",
       "\n",
       "[213 rows x 6 columns]"
      ]
     },
     "execution_count": 32,
     "metadata": {},
     "output_type": "execute_result"
    }
   ],
   "source": [
    "merged_df=merged_df.dropna()\n",
    "merged_df"
   ]
  },
  {
   "cell_type": "code",
   "execution_count": 35,
   "metadata": {},
   "outputs": [
    {
     "data": {
      "application/vnd.plotly.v1+json": {
       "config": {
        "plotlyServerURL": "https://plot.ly"
       },
       "data": [
        {
         "hovertemplate": "DATE=%{x}<br>gdp=%{y}<extra></extra>",
         "legendgroup": "",
         "line": {
          "color": "#636efa",
          "dash": "solid"
         },
         "marker": {
          "symbol": "circle"
         },
         "mode": "lines",
         "name": "",
         "orientation": "v",
         "showlegend": false,
         "type": "scatter",
         "x": [
          "1950-01-01T00:00:00",
          "1950-04-01T00:00:00",
          "1950-07-01T00:00:00",
          "1950-10-01T00:00:00",
          "1951-01-01T00:00:00",
          "1951-04-01T00:00:00",
          "1951-07-01T00:00:00",
          "1951-10-01T00:00:00",
          "1952-01-01T00:00:00",
          "1952-04-01T00:00:00",
          "1952-07-01T00:00:00",
          "1952-10-01T00:00:00",
          "1953-01-01T00:00:00",
          "1953-04-01T00:00:00",
          "1953-07-01T00:00:00",
          "1953-10-01T00:00:00",
          "1954-01-01T00:00:00",
          "1954-04-01T00:00:00",
          "1954-07-01T00:00:00",
          "1954-10-01T00:00:00",
          "1955-01-01T00:00:00",
          "1955-04-01T00:00:00",
          "1955-07-01T00:00:00",
          "1955-10-01T00:00:00",
          "1956-01-01T00:00:00",
          "1956-04-01T00:00:00",
          "1956-07-01T00:00:00",
          "1956-10-01T00:00:00",
          "1957-01-01T00:00:00",
          "1957-04-01T00:00:00",
          "1957-07-01T00:00:00",
          "1957-10-01T00:00:00",
          "1958-01-01T00:00:00",
          "1958-04-01T00:00:00",
          "1958-07-01T00:00:00",
          "1958-10-01T00:00:00",
          "1959-01-01T00:00:00",
          "1959-04-01T00:00:00",
          "1959-07-01T00:00:00",
          "1959-10-01T00:00:00",
          "1960-01-01T00:00:00",
          "1960-04-01T00:00:00",
          "1960-07-01T00:00:00",
          "1960-10-01T00:00:00",
          "1961-01-01T00:00:00",
          "1961-04-01T00:00:00",
          "1961-07-01T00:00:00",
          "1961-10-01T00:00:00",
          "1962-01-01T00:00:00",
          "1962-04-01T00:00:00",
          "1962-07-01T00:00:00",
          "1962-10-01T00:00:00",
          "1963-01-01T00:00:00",
          "1963-04-01T00:00:00",
          "1963-07-01T00:00:00",
          "1963-10-01T00:00:00",
          "1964-01-01T00:00:00",
          "1964-04-01T00:00:00",
          "1964-07-01T00:00:00",
          "1964-10-01T00:00:00",
          "1965-01-01T00:00:00",
          "1965-04-01T00:00:00",
          "1965-07-01T00:00:00",
          "1965-10-01T00:00:00",
          "1966-01-01T00:00:00",
          "1966-04-01T00:00:00",
          "1966-07-01T00:00:00",
          "1966-10-01T00:00:00",
          "1967-01-01T00:00:00",
          "1967-04-01T00:00:00",
          "1967-07-01T00:00:00",
          "1967-10-01T00:00:00",
          "1968-01-01T00:00:00",
          "1968-04-01T00:00:00",
          "1968-07-01T00:00:00",
          "1968-10-01T00:00:00",
          "1969-01-01T00:00:00",
          "1969-04-01T00:00:00",
          "1969-07-01T00:00:00",
          "1969-10-01T00:00:00",
          "1970-01-01T00:00:00",
          "1970-04-01T00:00:00",
          "1970-07-01T00:00:00",
          "1970-10-01T00:00:00",
          "1971-01-01T00:00:00",
          "1971-04-01T00:00:00",
          "1971-07-01T00:00:00",
          "1971-10-01T00:00:00",
          "1972-01-01T00:00:00",
          "1972-04-01T00:00:00",
          "1972-07-01T00:00:00",
          "1972-10-01T00:00:00",
          "1973-01-01T00:00:00",
          "1973-04-01T00:00:00",
          "1973-07-01T00:00:00",
          "1973-10-01T00:00:00",
          "1974-01-01T00:00:00",
          "1974-04-01T00:00:00",
          "1974-07-01T00:00:00",
          "1974-10-01T00:00:00",
          "1975-01-01T00:00:00",
          "1975-04-01T00:00:00",
          "1975-07-01T00:00:00",
          "1975-10-01T00:00:00",
          "1976-01-01T00:00:00",
          "1976-04-01T00:00:00",
          "1976-07-01T00:00:00",
          "1976-10-01T00:00:00",
          "1977-01-01T00:00:00",
          "1977-04-01T00:00:00",
          "1977-07-01T00:00:00",
          "1977-10-01T00:00:00",
          "1978-01-01T00:00:00",
          "1978-04-01T00:00:00",
          "1978-07-01T00:00:00",
          "1978-10-01T00:00:00",
          "1979-01-01T00:00:00",
          "1979-04-01T00:00:00",
          "1979-07-01T00:00:00",
          "1979-10-01T00:00:00",
          "1980-01-01T00:00:00",
          "1980-04-01T00:00:00",
          "1980-07-01T00:00:00",
          "1980-10-01T00:00:00",
          "1981-01-01T00:00:00",
          "1981-04-01T00:00:00",
          "1981-07-01T00:00:00",
          "1981-10-01T00:00:00",
          "1982-01-01T00:00:00",
          "1982-04-01T00:00:00",
          "1982-07-01T00:00:00",
          "1982-10-01T00:00:00",
          "1983-01-01T00:00:00",
          "1983-04-01T00:00:00",
          "1983-07-01T00:00:00",
          "1983-10-01T00:00:00",
          "1984-01-01T00:00:00",
          "1984-04-01T00:00:00",
          "1984-07-01T00:00:00",
          "1984-10-01T00:00:00",
          "1985-01-01T00:00:00",
          "1985-04-01T00:00:00",
          "1985-07-01T00:00:00",
          "1985-10-01T00:00:00",
          "1986-01-01T00:00:00",
          "1986-04-01T00:00:00",
          "1986-07-01T00:00:00",
          "1986-10-01T00:00:00",
          "1987-01-01T00:00:00",
          "1987-04-01T00:00:00",
          "1987-07-01T00:00:00",
          "1987-10-01T00:00:00",
          "1988-01-01T00:00:00",
          "1988-04-01T00:00:00",
          "1988-07-01T00:00:00",
          "1988-10-01T00:00:00",
          "1989-01-01T00:00:00",
          "1989-04-01T00:00:00",
          "1989-07-01T00:00:00",
          "1989-10-01T00:00:00",
          "1990-01-01T00:00:00",
          "1990-04-01T00:00:00",
          "1990-07-01T00:00:00",
          "1990-10-01T00:00:00",
          "1991-01-01T00:00:00",
          "1991-04-01T00:00:00",
          "1991-07-01T00:00:00",
          "1991-10-01T00:00:00",
          "1992-01-01T00:00:00",
          "1992-04-01T00:00:00",
          "1992-07-01T00:00:00",
          "1992-10-01T00:00:00",
          "1993-01-01T00:00:00",
          "1993-04-01T00:00:00",
          "1993-07-01T00:00:00",
          "1993-10-01T00:00:00",
          "1994-01-01T00:00:00",
          "1994-04-01T00:00:00",
          "1994-07-01T00:00:00",
          "1994-10-01T00:00:00",
          "1995-01-01T00:00:00",
          "1995-04-01T00:00:00",
          "1995-07-01T00:00:00",
          "1995-10-01T00:00:00",
          "1996-01-01T00:00:00",
          "1996-04-01T00:00:00",
          "1996-07-01T00:00:00",
          "1996-10-01T00:00:00",
          "1997-01-01T00:00:00",
          "1997-04-01T00:00:00",
          "1997-07-01T00:00:00",
          "1997-10-01T00:00:00",
          "1998-01-01T00:00:00",
          "1998-04-01T00:00:00",
          "1998-07-01T00:00:00",
          "1998-10-01T00:00:00",
          "1999-01-01T00:00:00",
          "1999-04-01T00:00:00",
          "1999-07-01T00:00:00",
          "1999-10-01T00:00:00",
          "2000-01-01T00:00:00",
          "2000-04-01T00:00:00",
          "2000-07-01T00:00:00",
          "2000-10-01T00:00:00",
          "2001-01-01T00:00:00",
          "2001-04-01T00:00:00",
          "2001-07-01T00:00:00",
          "2001-10-01T00:00:00",
          "2002-01-01T00:00:00",
          "2002-04-01T00:00:00",
          "2002-07-01T00:00:00",
          "2002-10-01T00:00:00",
          "2003-01-01T00:00:00",
          "2003-04-01T00:00:00",
          "2003-07-01T00:00:00",
          "2003-10-01T00:00:00",
          "2004-01-01T00:00:00",
          "2004-04-01T00:00:00",
          "2004-07-01T00:00:00",
          "2004-10-01T00:00:00",
          "2005-01-01T00:00:00",
          "2005-04-01T00:00:00",
          "2005-07-01T00:00:00",
          "2005-10-01T00:00:00",
          "2006-01-01T00:00:00",
          "2006-04-01T00:00:00",
          "2006-07-01T00:00:00",
          "2006-10-01T00:00:00",
          "2007-01-01T00:00:00",
          "2007-04-01T00:00:00",
          "2007-07-01T00:00:00",
          "2007-10-01T00:00:00",
          "2008-01-01T00:00:00",
          "2008-04-01T00:00:00",
          "2008-07-01T00:00:00",
          "2008-10-01T00:00:00",
          "2009-01-01T00:00:00",
          "2009-04-01T00:00:00",
          "2009-07-01T00:00:00",
          "2009-10-01T00:00:00",
          "2010-01-01T00:00:00",
          "2010-04-01T00:00:00",
          "2010-07-01T00:00:00",
          "2010-10-01T00:00:00",
          "2011-01-01T00:00:00",
          "2011-04-01T00:00:00",
          "2011-07-01T00:00:00",
          "2011-10-01T00:00:00",
          "2012-01-01T00:00:00",
          "2012-04-01T00:00:00",
          "2012-07-01T00:00:00",
          "2012-10-01T00:00:00",
          "2013-01-01T00:00:00",
          "2013-04-01T00:00:00",
          "2013-07-01T00:00:00",
          "2013-10-01T00:00:00",
          "2014-01-01T00:00:00",
          "2014-04-01T00:00:00",
          "2014-07-01T00:00:00",
          "2014-10-01T00:00:00",
          "2015-01-01T00:00:00",
          "2015-04-01T00:00:00",
          "2015-07-01T00:00:00",
          "2015-10-01T00:00:00",
          "2016-01-01T00:00:00",
          "2016-04-01T00:00:00",
          "2016-07-01T00:00:00",
          "2016-10-01T00:00:00",
          "2017-01-01T00:00:00",
          "2017-04-01T00:00:00",
          "2017-07-01T00:00:00",
          "2017-10-01T00:00:00",
          "2018-01-01T00:00:00",
          "2018-04-01T00:00:00",
          "2018-07-01T00:00:00",
          "2018-10-01T00:00:00",
          "2019-01-01T00:00:00",
          "2019-04-01T00:00:00",
          "2019-07-01T00:00:00",
          "2019-10-01T00:00:00",
          "2020-01-01T00:00:00",
          "2020-04-01T00:00:00",
          "2020-07-01T00:00:00",
          "2020-10-01T00:00:00",
          "2021-01-01T00:00:00",
          "2021-04-01T00:00:00",
          "2021-07-01T00:00:00",
          "2021-10-01T00:00:00",
          "2022-01-01T00:00:00",
          "2022-04-01T00:00:00",
          "2022-07-01T00:00:00",
          "2022-10-01T00:00:00",
          "2023-01-01T00:00:00"
         ],
         "xaxis": "x",
         "y": [
          70207,
          72595.8,
          77038.3,
          79986.3,
          84000,
          86022.5,
          87846.3,
          89044.5,
          89955,
          90257.5,
          91925.3,
          95203,
          96995,
          97937.3,
          97792.8,
          96492.5,
          96336.3,
          96530.3,
          97749,
          99933.5,
          103268.3,
          105383,
          107555.3,
          109273,
          109936.5,
          111502.5,
          112797.8,
          115115.8,
          117444.8,
          118006.3,
          119872.5,
          118716,
          116885,
          117994.5,
          121460.3,
          124888.8,
          127582.5,
          130663.3,
          131258.5,
          132150,
          135662,
          135270,
          136401,
          135049.3,
          136254.5,
          138886.3,
          141916,
          145153,
          148503.3,
          150091.5,
          152256.8,
          153070,
          155418,
          157438,
          161111,
          163484.5,
          167455.5,
          169668.5,
          173007.8,
          174329.8,
          179447.5,
          182547.8,
          187330.8,
          192964.3,
          198933.5,
          201245.3,
          204909.5,
          208325.5,
          211042.5,
          212245.8,
          216308.3,
          220359.8,
          227346.8,
          233586,
          237706.3,
          242007.5,
          248334.3,
          252255,
          257489,
          259536.8,
          262800,
          266843.8,
          271514.8,
          272152,
          283789,
          289067.8,
          294418.8,
          297574.3,
          307652.3,
          316592.3,
          322641.5,
          332226,
          344372.5,
          353471.8,
          358459.5,
          369072.3,
          372802.3,
          382514,
          390006.5,
          399919.8,
          404029,
          412963.3,
          427455,
          440457.8,
          455121.8,
          463083,
          471639.5,
          483568.3,
          497162,
          513977.3,
          529618.3,
          541067.5,
          550690,
          582908.3,
          598763.3,
          619237.3,
          631652.5,
          647811.8,
          666891.3,
          680970.8,
          697460.5,
          699338,
          714120.8,
          746389.3,
          781051.5,
          790633,
          815152.3,
          820204.5,
          818575.5,
          832993,
          841580.5,
          850640.3,
          868353.3,
          894712,
          922294.8,
          948676.5,
          977013.5,
          1002400.3,
          1021062.5,
          1037137.8,
          1057542,
          1073721.8,
          1096693.3,
          1111023.5,
          1126973.5,
          1136335,
          1151917.3,
          1164406.8,
          1180539,
          1201540,
          1221138.8,
          1251998.5,
          1268343,
          1297509,
          1320708.8,
          1349877.3,
          1377813.3,
          1403115.8,
          1423841.3,
          1436809.3,
          1468175.3,
          1490007,
          1503779,
          1501183.3,
          1508794.5,
          1531715.5,
          1551484.3,
          1566135,
          1590775.5,
          1617690.8,
          1641660.3,
          1670200.8,
          1682364.8,
          1702234.8,
          1720524.5,
          1753434.5,
          1778913,
          1811732.8,
          1832768.8,
          1863822,
          1880572.3,
          1895249.3,
          1920781.3,
          1943146.5,
          1967117,
          2008210,
          2032852,
          2064942.8,
          2090663.8,
          2129706.3,
          2165705.8,
          2191476.8,
          2216620,
          2242424.8,
          2280274.3,
          2323497.8,
          2352920.5,
          2381552.5,
          2421656.5,
          2475042.3,
          2500544.8,
          2561930,
          2579541.3,
          2608936,
          2617557.8,
          2649750,
          2649505,
          2665116.3,
          2695875,
          2721865,
          2746010,
          2765358.3,
          2793532.3,
          2828191.5,
          2891667.3,
          2943058.5,
          2980861.8,
          3028203.8,
          3076326.8,
          3131803.5,
          3191821.5,
          3230664,
          3285660.5,
          3331051,
          3399790,
          3438356,
          3467547,
          3509890,
          3553912.8,
          3600520.5,
          3641029.3,
          3678764.5,
          3676634.5,
          3716425.3,
          3724749.8,
          3652052.3,
          3607725.5,
          3595309,
          3612220.5,
          3662812.3,
          3691152.5,
          3745048.3,
          3785401.8,
          3827368.5,
          3837862,
          3889384.8,
          3911920,
          3960564.8,
          4017201.3,
          4051778.8,
          4079885.3,
          4105104.8,
          4162047.3,
          4182171.8,
          4238459.5,
          4298004.8,
          4299434.5,
          4379627,
          4451057,
          4478019.8,
          4515882.3,
          4569946,
          4600406.5,
          4608784.3,
          4631483.3,
          4677925.5,
          4723159.8,
          4772344.8,
          4820021,
          4859660.8,
          4923148.8,
          5009272,
          5082138.3,
          5145228,
          5199682.5,
          5229466.8,
          5276033.3,
          5346193.8,
          5423570.5,
          5475597.5,
          5426628.3,
          4978285.8,
          5411910,
          5506125.5,
          5650046.3,
          5823090.5,
          5957243.3,
          6163650.8,
          6257279,
          6386068.3,
          6498659.8,
          6602101.3,
          6703400.3
         ],
         "yaxis": "y"
        }
       ],
       "layout": {
        "legend": {
         "tracegroupgap": 0
        },
        "template": {
         "data": {
          "bar": [
           {
            "error_x": {
             "color": "#2a3f5f"
            },
            "error_y": {
             "color": "#2a3f5f"
            },
            "marker": {
             "line": {
              "color": "#E5ECF6",
              "width": 0.5
             },
             "pattern": {
              "fillmode": "overlay",
              "size": 10,
              "solidity": 0.2
             }
            },
            "type": "bar"
           }
          ],
          "barpolar": [
           {
            "marker": {
             "line": {
              "color": "#E5ECF6",
              "width": 0.5
             },
             "pattern": {
              "fillmode": "overlay",
              "size": 10,
              "solidity": 0.2
             }
            },
            "type": "barpolar"
           }
          ],
          "carpet": [
           {
            "aaxis": {
             "endlinecolor": "#2a3f5f",
             "gridcolor": "white",
             "linecolor": "white",
             "minorgridcolor": "white",
             "startlinecolor": "#2a3f5f"
            },
            "baxis": {
             "endlinecolor": "#2a3f5f",
             "gridcolor": "white",
             "linecolor": "white",
             "minorgridcolor": "white",
             "startlinecolor": "#2a3f5f"
            },
            "type": "carpet"
           }
          ],
          "choropleth": [
           {
            "colorbar": {
             "outlinewidth": 0,
             "ticks": ""
            },
            "type": "choropleth"
           }
          ],
          "contour": [
           {
            "colorbar": {
             "outlinewidth": 0,
             "ticks": ""
            },
            "colorscale": [
             [
              0,
              "#0d0887"
             ],
             [
              0.1111111111111111,
              "#46039f"
             ],
             [
              0.2222222222222222,
              "#7201a8"
             ],
             [
              0.3333333333333333,
              "#9c179e"
             ],
             [
              0.4444444444444444,
              "#bd3786"
             ],
             [
              0.5555555555555556,
              "#d8576b"
             ],
             [
              0.6666666666666666,
              "#ed7953"
             ],
             [
              0.7777777777777778,
              "#fb9f3a"
             ],
             [
              0.8888888888888888,
              "#fdca26"
             ],
             [
              1,
              "#f0f921"
             ]
            ],
            "type": "contour"
           }
          ],
          "contourcarpet": [
           {
            "colorbar": {
             "outlinewidth": 0,
             "ticks": ""
            },
            "type": "contourcarpet"
           }
          ],
          "heatmap": [
           {
            "colorbar": {
             "outlinewidth": 0,
             "ticks": ""
            },
            "colorscale": [
             [
              0,
              "#0d0887"
             ],
             [
              0.1111111111111111,
              "#46039f"
             ],
             [
              0.2222222222222222,
              "#7201a8"
             ],
             [
              0.3333333333333333,
              "#9c179e"
             ],
             [
              0.4444444444444444,
              "#bd3786"
             ],
             [
              0.5555555555555556,
              "#d8576b"
             ],
             [
              0.6666666666666666,
              "#ed7953"
             ],
             [
              0.7777777777777778,
              "#fb9f3a"
             ],
             [
              0.8888888888888888,
              "#fdca26"
             ],
             [
              1,
              "#f0f921"
             ]
            ],
            "type": "heatmap"
           }
          ],
          "heatmapgl": [
           {
            "colorbar": {
             "outlinewidth": 0,
             "ticks": ""
            },
            "colorscale": [
             [
              0,
              "#0d0887"
             ],
             [
              0.1111111111111111,
              "#46039f"
             ],
             [
              0.2222222222222222,
              "#7201a8"
             ],
             [
              0.3333333333333333,
              "#9c179e"
             ],
             [
              0.4444444444444444,
              "#bd3786"
             ],
             [
              0.5555555555555556,
              "#d8576b"
             ],
             [
              0.6666666666666666,
              "#ed7953"
             ],
             [
              0.7777777777777778,
              "#fb9f3a"
             ],
             [
              0.8888888888888888,
              "#fdca26"
             ],
             [
              1,
              "#f0f921"
             ]
            ],
            "type": "heatmapgl"
           }
          ],
          "histogram": [
           {
            "marker": {
             "pattern": {
              "fillmode": "overlay",
              "size": 10,
              "solidity": 0.2
             }
            },
            "type": "histogram"
           }
          ],
          "histogram2d": [
           {
            "colorbar": {
             "outlinewidth": 0,
             "ticks": ""
            },
            "colorscale": [
             [
              0,
              "#0d0887"
             ],
             [
              0.1111111111111111,
              "#46039f"
             ],
             [
              0.2222222222222222,
              "#7201a8"
             ],
             [
              0.3333333333333333,
              "#9c179e"
             ],
             [
              0.4444444444444444,
              "#bd3786"
             ],
             [
              0.5555555555555556,
              "#d8576b"
             ],
             [
              0.6666666666666666,
              "#ed7953"
             ],
             [
              0.7777777777777778,
              "#fb9f3a"
             ],
             [
              0.8888888888888888,
              "#fdca26"
             ],
             [
              1,
              "#f0f921"
             ]
            ],
            "type": "histogram2d"
           }
          ],
          "histogram2dcontour": [
           {
            "colorbar": {
             "outlinewidth": 0,
             "ticks": ""
            },
            "colorscale": [
             [
              0,
              "#0d0887"
             ],
             [
              0.1111111111111111,
              "#46039f"
             ],
             [
              0.2222222222222222,
              "#7201a8"
             ],
             [
              0.3333333333333333,
              "#9c179e"
             ],
             [
              0.4444444444444444,
              "#bd3786"
             ],
             [
              0.5555555555555556,
              "#d8576b"
             ],
             [
              0.6666666666666666,
              "#ed7953"
             ],
             [
              0.7777777777777778,
              "#fb9f3a"
             ],
             [
              0.8888888888888888,
              "#fdca26"
             ],
             [
              1,
              "#f0f921"
             ]
            ],
            "type": "histogram2dcontour"
           }
          ],
          "mesh3d": [
           {
            "colorbar": {
             "outlinewidth": 0,
             "ticks": ""
            },
            "type": "mesh3d"
           }
          ],
          "parcoords": [
           {
            "line": {
             "colorbar": {
              "outlinewidth": 0,
              "ticks": ""
             }
            },
            "type": "parcoords"
           }
          ],
          "pie": [
           {
            "automargin": true,
            "type": "pie"
           }
          ],
          "scatter": [
           {
            "fillpattern": {
             "fillmode": "overlay",
             "size": 10,
             "solidity": 0.2
            },
            "type": "scatter"
           }
          ],
          "scatter3d": [
           {
            "line": {
             "colorbar": {
              "outlinewidth": 0,
              "ticks": ""
             }
            },
            "marker": {
             "colorbar": {
              "outlinewidth": 0,
              "ticks": ""
             }
            },
            "type": "scatter3d"
           }
          ],
          "scattercarpet": [
           {
            "marker": {
             "colorbar": {
              "outlinewidth": 0,
              "ticks": ""
             }
            },
            "type": "scattercarpet"
           }
          ],
          "scattergeo": [
           {
            "marker": {
             "colorbar": {
              "outlinewidth": 0,
              "ticks": ""
             }
            },
            "type": "scattergeo"
           }
          ],
          "scattergl": [
           {
            "marker": {
             "colorbar": {
              "outlinewidth": 0,
              "ticks": ""
             }
            },
            "type": "scattergl"
           }
          ],
          "scattermapbox": [
           {
            "marker": {
             "colorbar": {
              "outlinewidth": 0,
              "ticks": ""
             }
            },
            "type": "scattermapbox"
           }
          ],
          "scatterpolar": [
           {
            "marker": {
             "colorbar": {
              "outlinewidth": 0,
              "ticks": ""
             }
            },
            "type": "scatterpolar"
           }
          ],
          "scatterpolargl": [
           {
            "marker": {
             "colorbar": {
              "outlinewidth": 0,
              "ticks": ""
             }
            },
            "type": "scatterpolargl"
           }
          ],
          "scatterternary": [
           {
            "marker": {
             "colorbar": {
              "outlinewidth": 0,
              "ticks": ""
             }
            },
            "type": "scatterternary"
           }
          ],
          "surface": [
           {
            "colorbar": {
             "outlinewidth": 0,
             "ticks": ""
            },
            "colorscale": [
             [
              0,
              "#0d0887"
             ],
             [
              0.1111111111111111,
              "#46039f"
             ],
             [
              0.2222222222222222,
              "#7201a8"
             ],
             [
              0.3333333333333333,
              "#9c179e"
             ],
             [
              0.4444444444444444,
              "#bd3786"
             ],
             [
              0.5555555555555556,
              "#d8576b"
             ],
             [
              0.6666666666666666,
              "#ed7953"
             ],
             [
              0.7777777777777778,
              "#fb9f3a"
             ],
             [
              0.8888888888888888,
              "#fdca26"
             ],
             [
              1,
              "#f0f921"
             ]
            ],
            "type": "surface"
           }
          ],
          "table": [
           {
            "cells": {
             "fill": {
              "color": "#EBF0F8"
             },
             "line": {
              "color": "white"
             }
            },
            "header": {
             "fill": {
              "color": "#C8D4E3"
             },
             "line": {
              "color": "white"
             }
            },
            "type": "table"
           }
          ]
         },
         "layout": {
          "annotationdefaults": {
           "arrowcolor": "#2a3f5f",
           "arrowhead": 0,
           "arrowwidth": 1
          },
          "autotypenumbers": "strict",
          "coloraxis": {
           "colorbar": {
            "outlinewidth": 0,
            "ticks": ""
           }
          },
          "colorscale": {
           "diverging": [
            [
             0,
             "#8e0152"
            ],
            [
             0.1,
             "#c51b7d"
            ],
            [
             0.2,
             "#de77ae"
            ],
            [
             0.3,
             "#f1b6da"
            ],
            [
             0.4,
             "#fde0ef"
            ],
            [
             0.5,
             "#f7f7f7"
            ],
            [
             0.6,
             "#e6f5d0"
            ],
            [
             0.7,
             "#b8e186"
            ],
            [
             0.8,
             "#7fbc41"
            ],
            [
             0.9,
             "#4d9221"
            ],
            [
             1,
             "#276419"
            ]
           ],
           "sequential": [
            [
             0,
             "#0d0887"
            ],
            [
             0.1111111111111111,
             "#46039f"
            ],
            [
             0.2222222222222222,
             "#7201a8"
            ],
            [
             0.3333333333333333,
             "#9c179e"
            ],
            [
             0.4444444444444444,
             "#bd3786"
            ],
            [
             0.5555555555555556,
             "#d8576b"
            ],
            [
             0.6666666666666666,
             "#ed7953"
            ],
            [
             0.7777777777777778,
             "#fb9f3a"
            ],
            [
             0.8888888888888888,
             "#fdca26"
            ],
            [
             1,
             "#f0f921"
            ]
           ],
           "sequentialminus": [
            [
             0,
             "#0d0887"
            ],
            [
             0.1111111111111111,
             "#46039f"
            ],
            [
             0.2222222222222222,
             "#7201a8"
            ],
            [
             0.3333333333333333,
             "#9c179e"
            ],
            [
             0.4444444444444444,
             "#bd3786"
            ],
            [
             0.5555555555555556,
             "#d8576b"
            ],
            [
             0.6666666666666666,
             "#ed7953"
            ],
            [
             0.7777777777777778,
             "#fb9f3a"
            ],
            [
             0.8888888888888888,
             "#fdca26"
            ],
            [
             1,
             "#f0f921"
            ]
           ]
          },
          "colorway": [
           "#636efa",
           "#EF553B",
           "#00cc96",
           "#ab63fa",
           "#FFA15A",
           "#19d3f3",
           "#FF6692",
           "#B6E880",
           "#FF97FF",
           "#FECB52"
          ],
          "font": {
           "color": "#2a3f5f"
          },
          "geo": {
           "bgcolor": "white",
           "lakecolor": "white",
           "landcolor": "#E5ECF6",
           "showlakes": true,
           "showland": true,
           "subunitcolor": "white"
          },
          "hoverlabel": {
           "align": "left"
          },
          "hovermode": "closest",
          "mapbox": {
           "style": "light"
          },
          "paper_bgcolor": "white",
          "plot_bgcolor": "#E5ECF6",
          "polar": {
           "angularaxis": {
            "gridcolor": "white",
            "linecolor": "white",
            "ticks": ""
           },
           "bgcolor": "#E5ECF6",
           "radialaxis": {
            "gridcolor": "white",
            "linecolor": "white",
            "ticks": ""
           }
          },
          "scene": {
           "xaxis": {
            "backgroundcolor": "#E5ECF6",
            "gridcolor": "white",
            "gridwidth": 2,
            "linecolor": "white",
            "showbackground": true,
            "ticks": "",
            "zerolinecolor": "white"
           },
           "yaxis": {
            "backgroundcolor": "#E5ECF6",
            "gridcolor": "white",
            "gridwidth": 2,
            "linecolor": "white",
            "showbackground": true,
            "ticks": "",
            "zerolinecolor": "white"
           },
           "zaxis": {
            "backgroundcolor": "#E5ECF6",
            "gridcolor": "white",
            "gridwidth": 2,
            "linecolor": "white",
            "showbackground": true,
            "ticks": "",
            "zerolinecolor": "white"
           }
          },
          "shapedefaults": {
           "line": {
            "color": "#2a3f5f"
           }
          },
          "ternary": {
           "aaxis": {
            "gridcolor": "white",
            "linecolor": "white",
            "ticks": ""
           },
           "baxis": {
            "gridcolor": "white",
            "linecolor": "white",
            "ticks": ""
           },
           "bgcolor": "#E5ECF6",
           "caxis": {
            "gridcolor": "white",
            "linecolor": "white",
            "ticks": ""
           }
          },
          "title": {
           "x": 0.05
          },
          "xaxis": {
           "automargin": true,
           "gridcolor": "white",
           "linecolor": "white",
           "ticks": "",
           "title": {
            "standoff": 15
           },
           "zerolinecolor": "white",
           "zerolinewidth": 2
          },
          "yaxis": {
           "automargin": true,
           "gridcolor": "white",
           "linecolor": "white",
           "ticks": "",
           "title": {
            "standoff": 15
           },
           "zerolinecolor": "white",
           "zerolinewidth": 2
          }
         }
        },
        "title": {
         "text": "gdp graph"
        },
        "xaxis": {
         "anchor": "y",
         "domain": [
          0,
          1
         ],
         "title": {
          "text": "DATE"
         }
        },
        "yaxis": {
         "anchor": "x",
         "domain": [
          0,
          1
         ],
         "title": {
          "text": "gdp"
         }
        }
       }
      }
     },
     "metadata": {},
     "output_type": "display_data"
    }
   ],
   "source": [
    "fig = px.line(df_gdp, x='DATE', y='gdp', title='gdp graph')\n",
    "fig.show()"
   ]
  },
  {
   "cell_type": "code",
   "execution_count": 42,
   "metadata": {},
   "outputs": [
    {
     "name": "stdout",
     "output_type": "stream",
     "text": [
      "Mean Squared Error: 1033808428.26\n",
      "R-squared: 1.00\n"
     ]
    },
    {
     "data": {
      "image/png": "[encoded data removed]",
      "text/plain": [
       "<Figure size 640x480 with 1 Axes>"
      ]
     },
     "metadata": {},
     "output_type": "display_data"
    }
   ],
   "source": [
    "import pandas as pd\n",
    "from sklearn.model_selection import train_test_split\n",
    "from sklearn.linear_model import LinearRegression\n",
    "from sklearn.metrics import mean_squared_error, r2_score\n",
    "import matplotlib.pyplot as plt\n",
    "\n",
    "# Split the data into training and testing sets\n",
    "X = merged_df[['personalConsumptionExpenditures', 'netExports', 'privateDomesticInvestment', 'governmentTotalExpenditures']]\n",
    "y = merged_df['gdp']\n",
    "X_train, X_test, y_train, y_test = train_test_split(X, y, test_size=0.2, random_state=42)\n",
    "\n",
    "# Create and train the linear regression model\n",
    "model = LinearRegression()\n",
    "model.fit(X_train, y_train)\n",
    "\n",
    "# Make predictions on the test set\n",
    "y_pred = model.predict(X_test)\n",
    "\n",
    "# Evaluate the model\n",
    "mse = mean_squared_error(y_test, y_pred)\n",
    "r2 = r2_score(y_test, y_pred)\n",
    "\n",
    "print(f'Mean Squared Error: {mse:.2f}')\n",
    "print(f'R-squared: {r2:.2f}')\n",
    "\n",
    "# Visualize the results\n",
    "plt.scatter(y_test, y_pred)\n",
    "plt.xlabel('True Values')\n",
    "plt.ylabel('Predictions')\n",
    "plt.title('True Values vs. Predictions in Multiple Linear Regression')\n",
    "plt.show()\n"
   ]
  }
 ],
 "metadata": {
  "kernelspec": {
   "display_name": "Python 3",
   "language": "python",
   "name": "python3"
  },
  "language_info": {
   "codemirror_mode": {
    "name": "ipython",
    "version": 3
   },
   "file_extension": ".py",
   "mimetype": "text/x-python",
   "name": "python",
   "nbconvert_exporter": "python",
   "pygments_lexer": "ipython3",
   "version": "3.11.1"
  }
 },
 "nbformat": 4,
 "nbformat_minor": 2
}
